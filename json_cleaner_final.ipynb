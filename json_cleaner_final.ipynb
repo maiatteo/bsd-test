{
 "cells": [
  {
   "cell_type": "code",
   "execution_count": 3,
   "id": "dde3ae27",
   "metadata": {},
   "outputs": [],
   "source": [
    "import pandas as pd\n",
    "import json"
   ]
  },
  {
   "cell_type": "code",
   "execution_count": 4,
   "id": "c0903ff4",
   "metadata": {},
   "outputs": [],
   "source": [
    "f = open(r\"json\\rawJson.json\")\n",
    "json_prova = json.load(f)\n",
    "\n",
    "json_notes = json_prova['deepTrackers']['noteTracker']['notes']\n",
    "json_19 = pd.read_json(json.dumps(json_notes))"
   ]
  },
  {
   "cell_type": "code",
   "execution_count": 5,
   "id": "78b820d9",
   "metadata": {},
   "outputs": [],
   "source": [
    "json_score = json_19.score.apply(pd.Series, index = [\"score/0\", \"score/1\", \"score/2\"])\n",
    "json_noteCenter = json_19.noteCenter.apply(pd.Series, index = [\"noteCenter/0\", \"noteCenter/1\", \"noteCenter/2\"])\n",
    "json_noteRotation = json_19.noteRotation.apply(pd.Series, index = [\"noteRotation/0\", \"noteRotation/1\", \"noteRotation/2\"])\n",
    "json_cutPoint = json_19.cutPoint.apply(pd.Series, index = [\"cutPoint/0\", \"cutPoint/1\", \"cutPoint/2\"])\n",
    "json_saberDir = json_19.saberDir.apply(pd.Series, index = [\"saberDir/0\", \"saberDir/1\", \"saberDir/2\"])\n",
    "json_cutNormal = json_19.cutNormal.apply(pd.Series, index = [\"cutNormal/0\", \"cutNormal/1\", \"cutNormal/2\"])\n",
    "\n",
    "json_partial = json_19.drop(columns = [\"score\", \"noteCenter\", \"noteRotation\", \"cutPoint\", \"saberDir\", \"cutNormal\"])\n",
    "\n",
    "json_finish = pd.concat([json_partial, json_score, json_noteCenter, json_noteRotation, json_cutPoint, json_saberDir, json_cutNormal], axis = 1)\n",
    "\n",
    "json_finish.to_json(r\"json\\cleanedJson.json\", orient = \"index\")"
   ]
  }
 ],
 "metadata": {
  "kernelspec": {
   "display_name": "Python 3 (ipykernel)",
   "language": "python",
   "name": "python3"
  },
  "language_info": {
   "codemirror_mode": {
    "name": "ipython",
    "version": 3
   },
   "file_extension": ".py",
   "mimetype": "text/x-python",
   "name": "python",
   "nbconvert_exporter": "python",
   "pygments_lexer": "ipython3",
   "version": "3.9.7"
  }
 },
 "nbformat": 4,
 "nbformat_minor": 5
}
