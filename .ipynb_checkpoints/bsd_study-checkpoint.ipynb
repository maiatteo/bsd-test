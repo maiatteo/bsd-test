{
 "cells": [
  {
   "cell_type": "code",
   "execution_count": 1,
   "id": "14b1d7a2",
   "metadata": {},
   "outputs": [],
   "source": [
    "from scipy import stats\n",
    "import numpy as np # linear algebra\n",
    "import pandas as pd # data processing, CSV file I/O (e.g. pd.read_csv)\n",
    "pd.plotting.register_matplotlib_converters()\n",
    "import matplotlib.pyplot as plt\n",
    "import seaborn as sns"
   ]
  },
  {
   "cell_type": "code",
   "execution_count": null,
   "id": "baa49e05",
   "metadata": {},
   "outputs": [],
   "source": [
    "esoteria_data = pd.read_csv(r\"/csv/csvEsoteria.csv\", on_bad_lines='skip')\n",
    "galaxy_data = pd.read_csv(r\"/csv/csvGalaxy.csv\", on_bad_lines='skip')"
   ]
  }
 ],
 "metadata": {
  "kernelspec": {
   "display_name": "Python 3 (ipykernel)",
   "language": "python",
   "name": "python3"
  },
  "language_info": {
   "codemirror_mode": {
    "name": "ipython",
    "version": 3
   },
   "file_extension": ".py",
   "mimetype": "text/x-python",
   "name": "python",
   "nbconvert_exporter": "python",
   "pygments_lexer": "ipython3",
   "version": "3.9.7"
  }
 },
 "nbformat": 4,
 "nbformat_minor": 5
}
